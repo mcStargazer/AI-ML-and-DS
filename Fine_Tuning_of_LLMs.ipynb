{
  "nbformat": 4,
  "nbformat_minor": 0,
  "metadata": {
    "colab": {
      "provenance": [],
      "gpuType": "T4",
      "collapsed_sections": [
        "iCWrozkwPhpa",
        "e848duf6s5DD",
        "fT5BjFcflZAh",
        "uggy0OkGwVO7",
        "CMO9Ew1534fE",
        "l8Y5ScxCtiFx",
        "coUlIR-ytjiF",
        "XMPw6WU6vbjP"
      ],
      "toc_visible": true,
      "include_colab_link": true
    },
    "kernelspec": {
      "name": "python3",
      "display_name": "Python 3"
    },
    "language_info": {
      "name": "python"
    },
    "accelerator": "GPU"
  },
  "cells": [
    {
      "cell_type": "markdown",
      "metadata": {
        "id": "view-in-github",
        "colab_type": "text"
      },
      "source": [
        "<a href=\"https://colab.research.google.com/github/mcStargazer/AI-ML-and-DS/blob/main/Fine_Tuning_of_LLMs.ipynb\" target=\"_parent\"><img src=\"https://colab.research.google.com/assets/colab-badge.svg\" alt=\"Open In Colab\"/></a>"
      ]
    },
    {
      "cell_type": "markdown",
      "source": [
        "# **Preface**\n",
        "\n",
        "This project takes an existing LLM (of the Llama 2 variety) from HuggingFace, and fine tunes it with a new cybersecurity-related dataset. This new dataset contains descriptions and original source links for CVEs from the National Vulnerability Database.\n",
        "\n",
        "Note: Run with Python 3 and T4 GPU"
      ],
      "metadata": {
        "id": "iCWrozkwPhpa"
      }
    },
    {
      "cell_type": "markdown",
      "source": [
        "### Provenance & Legal"
      ],
      "metadata": {
        "id": "cheILeupuh05"
      }
    },
    {
      "cell_type": "markdown",
      "source": [
        "This notebook's code is a derivative of code on [Maxime Labonne's GitHub repo](https://github.com/mlabonne/llm-course) which is under the [Apache 2.0 license](https://www.apache.org/licenses/LICENSE-2.0) (click [here](https://fossa.com/blog/open-source-licenses-101-apache-license-2-0/) for a friendlier introduction to this license. The Apache 2.0 license continues as the license in force over this notebook. The specific originating code is in this [Colab notebook](https://colab.research.google.com/drive/1PEQyJO1-f6j0S_XJ8DV50NkpzasXkrzd?usp=sharing). See his [substack post](https://maximelabonne.substack.com/p/fine-tune-your-own-llama-2-model-in-a-colab-notebook-df9823a04a32) for an in-depth discussion of the original code."
      ],
      "metadata": {
        "id": "XFyf4yl5QMOp"
      }
    },
    {
      "cell_type": "markdown",
      "source": [
        "### Apache 2.0 License Text\n"
      ],
      "metadata": {
        "id": "e848duf6s5DD"
      }
    },
    {
      "cell_type": "markdown",
      "source": [
        "\n",
        "\n",
        "Apache License\n",
        "Version 2.0, January 2004\n",
        "http://www.apache.org/licenses/\n",
        "\n",
        "TERMS AND CONDITIONS FOR USE, REPRODUCTION, AND DISTRIBUTION\n",
        "\n",
        "1. Definitions.\n",
        "\n",
        "\"License\" shall mean the terms and conditions for use, reproduction, and distribution as defined by Sections 1 through 9 of this document.\n",
        "\n",
        "\"Licensor\" shall mean the copyright owner or entity authorized by the copyright owner that is granting the License.\n",
        "\n",
        "\"Legal Entity\" shall mean the union of the acting entity and all other entities that control, are controlled by, or are under common control with that entity. For the purposes of this definition, \"control\" means (i) the power, direct or indirect, to cause the direction or management of such entity, whether by contract or otherwise, or (ii) ownership of fifty percent (50%) or more of the outstanding shares, or (iii) beneficial ownership of such entity.\n",
        "\n",
        "\"You\" (or \"Your\") shall mean an individual or Legal Entity exercising permissions granted by this License.\n",
        "\n",
        "\"Source\" form shall mean the preferred form for making modifications, including but not limited to software source code, documentation source, and configuration files.\n",
        "\n",
        "\"Object\" form shall mean any form resulting from mechanical transformation or translation of a Source form, including but not limited to compiled object code, generated documentation, and conversions to other media types.\n",
        "\n",
        "\"Work\" shall mean the work of authorship, whether in Source or Object form, made available under the License, as indicated by a copyright notice that is included in or attached to the work (an example is provided in the Appendix below).\n",
        "\n",
        "\"Derivative Works\" shall mean any work, whether in Source or Object form, that is based on (or derived from) the Work and for which the editorial revisions, annotations, elaborations, or other modifications represent, as a whole, an original work of authorship. For the purposes of this License, Derivative Works shall not include works that remain separable from, or merely link (or bind by name) to the interfaces of, the Work and Derivative Works thereof.\n",
        "\n",
        "\"Contribution\" shall mean any work of authorship, including the original version of the Work and any modifications or additions to that Work or Derivative Works thereof, that is intentionally submitted to Licensor for inclusion in the Work by the copyright owner or by an individual or Legal Entity authorized to submit on behalf of the copyright owner. For the purposes of this definition, \"submitted\" means any form of electronic, verbal, or written communication sent to the Licensor or its representatives, including but not limited to communication on electronic mailing lists, source code control systems, and issue tracking systems that are managed by, or on behalf of, the Licensor for the purpose of discussing and improving the Work, but excluding communication that is conspicuously marked or otherwise designated in writing by the copyright owner as \"Not a Contribution.\"\n",
        "\n",
        "\"Contributor\" shall mean Licensor and any individual or Legal Entity on behalf of whom a Contribution has been received by Licensor and subsequently incorporated within the Work.\n",
        "\n",
        "2. Grant of Copyright License. Subject to the terms and conditions of this License, each Contributor hereby grants to You a perpetual, worldwide, non-exclusive, no-charge, royalty-free, irrevocable copyright license to reproduce, prepare Derivative Works of, publicly display, publicly perform, sublicense, and distribute the Work and such Derivative Works in Source or Object form.\n",
        "\n",
        "3. Grant of Patent License. Subject to the terms and conditions of this License, each Contributor hereby grants to You a perpetual, worldwide, non-exclusive, no-charge, royalty-free, irrevocable (except as stated in this section) patent license to make, have made, use, offer to sell, sell, import, and otherwise transfer the Work, where such license applies only to those patent claims licensable by such Contributor that are necessarily infringed by their Contribution(s) alone or by combination of their Contribution(s) with the Work to which such Contribution(s) was submitted. If You institute patent litigation against any entity (including a cross-claim or counterclaim in a lawsuit) alleging that the Work or a Contribution incorporated within the Work constitutes direct or contributory patent infringement, then any patent licenses granted to You under this License for that Work shall terminate as of the date such litigation is filed.\n",
        "\n",
        "4. Redistribution. You may reproduce and distribute copies of the Work or Derivative Works thereof in any medium, with or without modifications, and in Source or Object form, provided that You meet the following conditions:\n",
        "\n",
        "    You must give any other recipients of the Work or Derivative Works a copy of this License; and\n",
        "    You must cause any modified files to carry prominent notices stating that You changed the files; and\n",
        "    You must retain, in the Source form of any Derivative Works that You distribute, all copyright, patent, trademark, and attribution notices from the Source form of the Work, excluding those notices that do not pertain to any part of the Derivative Works; and\n",
        "    If the Work includes a \"NOTICE\" text file as part of its distribution, then any Derivative Works that You distribute must include a readable copy of the attribution notices contained within such NOTICE file, excluding those notices that do not pertain to any part of the Derivative Works, in at least one of the following places: within a NOTICE text file distributed as part of the Derivative Works; within the Source form or documentation, if provided along with the Derivative Works; or, within a display generated by the Derivative Works, if and wherever such third-party notices normally appear. The contents of the NOTICE file are for informational purposes only and do not modify the License. You may add Your own attribution notices within Derivative Works that You distribute, alongside or as an addendum to the NOTICE text from the Work, provided that such additional attribution notices cannot be construed as modifying the License.\n",
        "\n",
        "You may add Your own copyright statement to Your modifications and may provide additional or different license terms and conditions for use, reproduction, or distribution of Your modifications, or for any such Derivative Works as a whole, provided Your use, reproduction, and distribution of the Work otherwise complies with the conditions stated in this License.\n",
        "\n",
        "5. Submission of Contributions. Unless You explicitly state otherwise, any Contribution intentionally submitted for inclusion in the Work by You to the Licensor shall be under the terms and conditions of this License, without any additional terms or conditions. Notwithstanding the above, nothing herein shall supersede or modify the terms of any separate license agreement you may have executed with Licensor regarding such Contributions.\n",
        "\n",
        "6. Trademarks. This License does not grant permission to use the trade names, trademarks, service marks, or product names of the Licensor, except as required for reasonable and customary use in describing the origin of the Work and reproducing the content of the NOTICE file.\n",
        "\n",
        "7. Disclaimer of Warranty. Unless required by applicable law or agreed to in writing, Licensor provides the Work (and each Contributor provides its Contributions) on an \"AS IS\" BASIS, WITHOUT WARRANTIES OR CONDITIONS OF ANY KIND, either express or implied, including, without limitation, any warranties or conditions of TITLE, NON-INFRINGEMENT, MERCHANTABILITY, or FITNESS FOR A PARTICULAR PURPOSE. You are solely responsible for determining the appropriateness of using or redistributing the Work and assume any risks associated with Your exercise of permissions under this License.\n",
        "\n",
        "8. Limitation of Liability. In no event and under no legal theory, whether in tort (including negligence), contract, or otherwise, unless required by applicable law (such as deliberate and grossly negligent acts) or agreed to in writing, shall any Contributor be liable to You for damages, including any direct, indirect, special, incidental, or consequential damages of any character arising as a result of this License or out of the use or inability to use the Work (including but not limited to damages for loss of goodwill, work stoppage, computer failure or malfunction, or any and all other commercial damages or losses), even if such Contributor has been advised of the possibility of such damages.\n",
        "\n",
        "9. Accepting Warranty or Additional Liability. While redistributing the Work or Derivative Works thereof, You may choose to offer, and charge a fee for, acceptance of support, warranty, indemnity, or other liability obligations and/or rights consistent with this License. However, in accepting such obligations, You may act only on Your own behalf and on Your sole responsibility, not on behalf of any other Contributor, and only if You agree to indemnify, defend, and hold each Contributor harmless for any liability incurred by, or claims asserted against, such Contributor by reason of your accepting any such warranty or additional liability.\n",
        "\n",
        "END OF TERMS AND CONDITIONS\n"
      ],
      "metadata": {
        "id": "oGpyv5MNtMek"
      }
    },
    {
      "cell_type": "markdown",
      "source": [
        "### Significant Changes"
      ],
      "metadata": {
        "id": "Dkt5eUTWtHwa"
      }
    },
    {
      "cell_type": "markdown",
      "source": [
        "* Refactored the structure of the notebook for readability and easier access to sections.\n",
        "* Added an exploratory section at the end of Chapter 4. This is between when the model is loaded, and then trained. This option section is for comparing the original output versus output after fine-tuning.\n",
        "* Added Chapter 2 on finding, exploring, and extracting data for fine-tuning."
      ],
      "metadata": {
        "id": "6-NVvr0wtWwL"
      }
    },
    {
      "cell_type": "markdown",
      "source": [
        "# **Chapter 1: Installing and Importing the Libraries**"
      ],
      "metadata": {
        "id": "fT5BjFcflZAh"
      }
    },
    {
      "cell_type": "markdown",
      "source": [
        "### Installing Additional Libraries"
      ],
      "metadata": {
        "id": "XjYcmomx2F3c"
      }
    },
    {
      "cell_type": "code",
      "execution_count": null,
      "metadata": {
        "id": "GLXwJqbjtPho"
      },
      "outputs": [],
      "source": [
        "# uncomment the following and run if these have not already been installed\n",
        "!pip install -q accelerate==0.21.0 peft==0.4.0 bitsandbytes==0.40.2 transformers==4.31.0 trl==0.4.7"
      ]
    },
    {
      "cell_type": "code",
      "source": [
        "# uncomment the following and run if these have not already been installed\n",
        "!pip install huggingface_hub"
      ],
      "metadata": {
        "id": "eRZm_OAbs3qA"
      },
      "execution_count": null,
      "outputs": []
    },
    {
      "cell_type": "markdown",
      "source": [
        "### Importing Python 3 Libraries"
      ],
      "metadata": {
        "id": "EB5NSOUB2MDx"
      }
    },
    {
      "cell_type": "code",
      "source": [
        "from datasets import load_dataset\n",
        "import os\n",
        "from peft import LoraConfig, PeftModel\n",
        "import torch\n",
        "from transformers import (AutoModelForCausalLM, AutoTokenizer,\n",
        "                          BitsAndBytesConfig, HfArgumentParser,\n",
        "                          TrainingArguments, pipeline, logging)\n",
        "from trl import SFTTrainer"
      ],
      "metadata": {
        "id": "nAMzy_0FtaUZ"
      },
      "execution_count": null,
      "outputs": []
    },
    {
      "cell_type": "markdown",
      "source": [
        "# **Chapter 2: Preparing Fine Tuning Instruction Dataset**"
      ],
      "metadata": {
        "id": "uggy0OkGwVO7"
      }
    },
    {
      "cell_type": "markdown",
      "source": [
        "### Downloading data..."
      ],
      "metadata": {
        "id": "gfc_qznRwgnj"
      }
    },
    {
      "cell_type": "markdown",
      "source": [
        "### Exploring data..."
      ],
      "metadata": {
        "id": "lWyvrwlpwoV3"
      }
    },
    {
      "cell_type": "markdown",
      "source": [
        "### Extracting data..."
      ],
      "metadata": {
        "id": "VdyAYPXAwuXU"
      }
    },
    {
      "cell_type": "markdown",
      "source": [
        "# **Chapter 3: Parameters Typically Configured by User**"
      ],
      "metadata": {
        "id": "CMO9Ew1534fE"
      }
    },
    {
      "cell_type": "markdown",
      "source": [
        "### The Model and Fine Tuning Instruction Set"
      ],
      "metadata": {
        "id": "9kfBIwUYqTHj"
      }
    },
    {
      "cell_type": "code",
      "source": [
        "# Model Source https://huggingface.co/aboonaji/llama2finetune-v2\n",
        "model_identifier = \"aboonaji/llama2finetune-v2\"\n",
        "\n",
        "# Instruction Set: https://huggingface.co/datasets/aboonaji/wiki_medical_terms_llam2_format\n",
        "formatted_dataset = \"aboonaji/wiki_medical_terms_llam2_format\""
      ],
      "metadata": {
        "id": "oYay3j5MIe-G"
      },
      "execution_count": null,
      "outputs": []
    },
    {
      "cell_type": "markdown",
      "source": [
        "### QLoRA Parameters"
      ],
      "metadata": {
        "id": "OQA3fMY647SE"
      }
    },
    {
      "cell_type": "code",
      "source": [
        "lora_hyper_r = 64           # balances complexity of model and learning ability\n",
        "lora_hyper_alpha = 16       # good value from hyperparameter tuning\n",
        "lora_hyper_dropout = 0.10   # reduces overfitting"
      ],
      "metadata": {
        "id": "4KqAdhUTKC4E"
      },
      "execution_count": null,
      "outputs": []
    },
    {
      "cell_type": "markdown",
      "source": [
        "### bitsandbytes Parameters"
      ],
      "metadata": {
        "id": "YFfD46YB2ffY"
      }
    },
    {
      "cell_type": "code",
      "source": [
        "# hyperparameters related to quantization\n",
        "enable_4bit = True              # enable 4-bit quantization\n",
        "compute_dtype_bnb = \"float16\"   # type for training\n",
        "quant_type_bnb = \"nf4\"          # type of quantization to be used\n",
        "double_quant_flag = False       # no double quantization"
      ],
      "metadata": {
        "id": "FMbdIGz3LM00"
      },
      "execution_count": null,
      "outputs": []
    },
    {
      "cell_type": "markdown",
      "source": [
        "### Training Parameters"
      ],
      "metadata": {
        "id": "_66BRztm29wJ"
      }
    },
    {
      "cell_type": "code",
      "source": [
        "# Check GPU compatibility with bfloat16\n",
        "def bf16_compat(compute_dtype_bnb, enable_4bit):\n",
        "    if compute_dtype_bnb == torch.float16 and enable_4bit:\n",
        "        major, _ = torch.cuda.get_device_capability()\n",
        "        if major >= 8:\n",
        "            return True\n",
        "    return False"
      ],
      "metadata": {
        "id": "bPUxagAyPfXH"
      },
      "execution_count": null,
      "outputs": []
    },
    {
      "cell_type": "code",
      "source": [
        "results_dir = \"./results\"\n",
        "epochs_count = 10\n",
        "enable_fp16 = False     # avoid floating point 16-bit, defaulting to 32-bit\n",
        "enable_bf16 = False     # \"brain\" floating point, again uses default of 32-bit\n",
        "train_batch_size = 4\n",
        "eval_batch_size = 4\n",
        "accumulation_steps = 2  # effectively increase batch size w/o more memory (1|2)\n",
        "checkpointing_flag = True   # gradient checkpointing?\n",
        "grad_norm_limit = 0.30  # do gradient clipping (keep small, avoid instability)\n",
        "train_learning_rate = 2e-4  # from lots of experimentation\n",
        "decay_rate = 0.001\n",
        "optimizer_type = \"paged_adamw_32bit\"\n",
        "scheduler_type = \"constant\"   # help stabilize training (constant|cosine)\n",
        "steps_limit = 100\n",
        "warmup_percentage = 0.03\n",
        "length_grouping = True  # improve training efficiency\n",
        "checkpoint_interval = 10\n",
        "log_interval = 30"
      ],
      "metadata": {
        "id": "nVXhel5bN-zN"
      },
      "execution_count": null,
      "outputs": []
    },
    {
      "cell_type": "markdown",
      "source": [
        "### Supervised Fine-Tuning Parameters"
      ],
      "metadata": {
        "id": "3cmmRIgc3Ree"
      }
    },
    {
      "cell_type": "code",
      "source": [
        "enable_packing = False\n",
        "sequence_length_max = None\n",
        "device_assignment = {\"\": 0}"
      ],
      "metadata": {
        "id": "82YjtT5IQu8u"
      },
      "execution_count": null,
      "outputs": []
    },
    {
      "cell_type": "markdown",
      "source": [
        "# **Chapter 4: Load Dataset, Pre-Trained Model, and Pre-Trained Tokenizer**"
      ],
      "metadata": {
        "id": "l8Y5ScxCtiFx"
      }
    },
    {
      "cell_type": "markdown",
      "source": [
        "### Load the dataset"
      ],
      "metadata": {
        "id": "QEsqc9gasp10"
      }
    },
    {
      "cell_type": "code",
      "source": [
        "training_data = load_dataset(formatted_dataset, split=\"train\")"
      ],
      "metadata": {
        "id": "CSS6qpLLS4EB"
      },
      "execution_count": null,
      "outputs": []
    },
    {
      "cell_type": "markdown",
      "source": [
        "### Load a Pre-Trained LLaMA 2 model with a QLoRA Configuration"
      ],
      "metadata": {
        "id": "rz3vMSzhs-P7"
      }
    },
    {
      "cell_type": "code",
      "source": [
        "# Define the QLoRA Configuration for bitsandbytes\n",
        "dtype_computation = getattr(torch, compute_dtype_bnb)\n",
        "bnb_setup = BitsAndBytesConfig(load_in_4bit = enable_4bit,\n",
        "                               bnb_4bit_quant_type = quant_type_bnb,\n",
        "                               bnb_4bit_use_double_quant = double_quant_flag,\n",
        "                               bnb_4bit_compute_dtype = dtype_computation)"
      ],
      "metadata": {
        "id": "MbSH-xjWUQ2l"
      },
      "execution_count": null,
      "outputs": []
    },
    {
      "cell_type": "code",
      "source": [
        "# Load Pre-Trained Model\n",
        "llama_model = AutoModelForCausalLM.from_pretrained(model_identifier,\n",
        "    quantization_config = bnb_setup,\n",
        "    device_map = device_assignment)\n",
        "llama_model.config.use_case = False\n",
        "llama_model.config.pretraining_tp = 1"
      ],
      "metadata": {
        "id": "h9ELdidFWokT"
      },
      "execution_count": null,
      "outputs": []
    },
    {
      "cell_type": "markdown",
      "source": [
        "### Load a Pre-Trained Tokenizer for the LLaMA 2 Model"
      ],
      "metadata": {
        "id": "g6aWb1e7tNRS"
      }
    },
    {
      "cell_type": "code",
      "source": [
        "llama_tokenizer = AutoTokenizer.from_pretrained(model_identifier,\n",
        "                                                trust_remote_code = True)\n",
        "llama_tokenizer.pad_token = llama_tokenizer.eos_token\n",
        "llama_tokenizer.padding_side = \"right\""
      ],
      "metadata": {
        "id": "9xTvOJmtOmdl"
      },
      "execution_count": null,
      "outputs": []
    },
    {
      "cell_type": "markdown",
      "source": [
        "### Optional: Experiment with the Model ***Before*** Fine-Tuning"
      ],
      "metadata": {
        "id": "om_CiP1tx0D2"
      }
    },
    {
      "cell_type": "code",
      "source": [
        "# Establish the text generation pipeline\n",
        "text_generation_pipe = pipeline(task = \"text-generation\",\n",
        "                               model = llama_model,\n",
        "                               tokenizer = llama_tokenizer,\n",
        "                               max_length = 300)"
      ],
      "metadata": {
        "id": "9VxNNw49xyRY"
      },
      "execution_count": null,
      "outputs": []
    },
    {
      "cell_type": "code",
      "source": [
        "user_prompts = [\"Hey! How are you today?\",\n",
        "                \"Please summarize hepatotoxicity for paracetamol\"]"
      ],
      "metadata": {
        "id": "8hsaOaJeyKGL"
      },
      "execution_count": null,
      "outputs": []
    },
    {
      "cell_type": "code",
      "source": [
        "user_prompt = user_prompts[1]\n",
        "generation_output = text_generation_pipe(f\"<s>[INST] {user_prompt} [/INST]\")\n",
        "print(generation_output[0]['generated_text'])"
      ],
      "metadata": {
        "id": "H6LJok-N5NTM"
      },
      "execution_count": null,
      "outputs": []
    },
    {
      "cell_type": "markdown",
      "source": [
        "# **Chapter 5: Create the Supervised Fine-Tuning Trainer and Train It**"
      ],
      "metadata": {
        "id": "coUlIR-ytjiF"
      }
    },
    {
      "cell_type": "code",
      "source": [
        "# Organize the peft configuration for the trainer\n",
        "peft_setup = LoraConfig(r = lora_hyper_r,\n",
        "                        lora_alpha = lora_hyper_alpha,\n",
        "                        lora_dropout = lora_hyper_dropout,\n",
        "                        bias = \"none\",\n",
        "                        task_type = \"CAUSAL_LM\")"
      ],
      "metadata": {
        "id": "6f5rwthDQnCx"
      },
      "execution_count": null,
      "outputs": []
    },
    {
      "cell_type": "code",
      "source": [
        "# Organize the training arguments for the trainer\n",
        "train_args = TrainingArguments(output_dir = results_dir,\n",
        "                               num_train_epochs = epochs_count,\n",
        "                               per_device_train_batch_size = train_batch_size,\n",
        "                               per_device_eval_batch_size = eval_batch_size,\n",
        "                               gradient_accumulation_steps = accumulation_steps,\n",
        "                               learning_rate = train_learning_rate,\n",
        "                               weight_decay = decay_rate,\n",
        "                               optim = optimizer_type,\n",
        "                               save_steps = checkpoint_interval,\n",
        "                               logging_steps = log_interval,\n",
        "                               fp16 = enable_fp16,\n",
        "                               bf16 = enable_bf16,\n",
        "                               max_grad_norm = grad_norm_limit,\n",
        "                               max_steps = steps_limit,\n",
        "                               warmup_ratio = warmup_percentage,\n",
        "                               group_by_length = length_grouping,\n",
        "                               lr_scheduler_type = scheduler_type,\n",
        "                               gradient_checkpointing = checkpointing_flag)"
      ],
      "metadata": {
        "id": "JRYcwQPLSDPZ"
      },
      "execution_count": null,
      "outputs": []
    },
    {
      "cell_type": "code",
      "source": [
        "# Create the supervised fine-tuning trainer\n",
        "llama_sft_trainer = SFTTrainer(model = llama_model,\n",
        "                               args = train_args,\n",
        "                               train_dataset = training_data,\n",
        "                               tokenizer = llama_tokenizer,\n",
        "                               peft_config = peft_setup,\n",
        "                               dataset_text_field = \"text\",\n",
        "                               max_seq_length = sequence_length_max,\n",
        "                               packing = enable_packing)\n"
      ],
      "metadata": {
        "id": "uhHYjk-bW5TZ"
      },
      "execution_count": null,
      "outputs": []
    },
    {
      "cell_type": "code",
      "source": [
        "# Train the trainer\n",
        "llama_sft_trainer.train()"
      ],
      "metadata": {
        "id": "tWY6ckBtZI4C"
      },
      "execution_count": null,
      "outputs": []
    },
    {
      "cell_type": "markdown",
      "source": [
        "# **Chapter 6: Chat with the Model**"
      ],
      "metadata": {
        "id": "XMPw6WU6vbjP"
      }
    },
    {
      "cell_type": "code",
      "source": [
        "# Establish the text generation pipeline\n",
        "text_generation_pipe = pipeline(task = \"text-generation\",\n",
        "                               model = llama_model,\n",
        "                               tokenizer = llama_tokenizer,\n",
        "                               max_length = 300)"
      ],
      "metadata": {
        "id": "kHVaEgDFbvU5"
      },
      "execution_count": null,
      "outputs": []
    },
    {
      "cell_type": "code",
      "source": [
        "user_prompts = [\"Hey! How are you today?\",\n",
        "                \"Please summarize hepatotoxicity for paracetamol\",\n",
        "                \"How is paracetamol related to hepatic encephalopathy?\"]"
      ],
      "metadata": {
        "id": "jDyA1qFYxCLm"
      },
      "execution_count": null,
      "outputs": []
    },
    {
      "cell_type": "code",
      "source": [
        "user_prompt = user_prompts[1]\n",
        "generation_output = text_generation_pipe(f\"<s>[INST] {user_prompt} [/INST]\")\n",
        "print(generation_output[0]['generated_text'])"
      ],
      "metadata": {
        "id": "Ov2LxPTCL_RR"
      },
      "execution_count": null,
      "outputs": []
    },
    {
      "cell_type": "markdown",
      "source": [
        "# **Afterward**"
      ],
      "metadata": {
        "id": "wZyNFBMGc4KU"
      }
    },
    {
      "cell_type": "markdown",
      "source": [
        "At the beginning and end of his article, Labonne's [substack post](https://maximelabonne.substack.com/p/fine-tune-your-own-llama-2-model-in-a-colab-notebook-df9823a04a32) offers some great background and discussion points. And, his [Colab notebook](https://colab.research.google.com/drive/1PEQyJO1-f6j0S_XJ8DV50NkpzasXkrzd?usp=sharing#scrollTo=QQn30cRtAZ-P) offers a guide to saving your results back out to HuggingFace."
      ],
      "metadata": {
        "id": "EZWNngLJc-Fa"
      }
    }
  ]
}